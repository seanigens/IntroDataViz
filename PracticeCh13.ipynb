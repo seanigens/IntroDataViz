{
  "nbformat": 4,
  "nbformat_minor": 0,
  "metadata": {
    "colab": {
      "provenance": [],
      "authorship_tag": "ABX9TyMadqnsk70UiaJHFALSw0XM",
      "include_colab_link": true
    },
    "kernelspec": {
      "name": "python3",
      "display_name": "Python 3"
    },
    "language_info": {
      "name": "python"
    }
  },
  "cells": [
    {
      "cell_type": "markdown",
      "metadata": {
        "id": "view-in-github",
        "colab_type": "text"
      },
      "source": [
        "<a href=\"https://colab.research.google.com/github/seanigens/IntroDataViz/blob/main/PracticeCh13.ipynb\" target=\"_parent\"><img src=\"https://colab.research.google.com/assets/colab-badge.svg\" alt=\"Open In Colab\"/></a>"
      ]
    },
    {
      "cell_type": "code",
      "source": [
        "import pandas as pd\n",
        "import numpy as np\n",
        "from sklearn.model_selection import train_test_split\n",
        "from sklearn.compose import ColumnTransformer\n",
        "from sklearn.preprocessing import PolynomialFeatures, OneHotEncoder\n",
        "from sklearn.pipeline import Pipeline\n",
        "from sklearn.linear_model import LinearRegression\n",
        "from sklearn.metrics import mean_squared_error\n",
        "from sklearn.model_selection import GridSearchCV"
      ],
      "metadata": {
        "id": "nn_sYMXN4ztk"
      },
      "execution_count": 12,
      "outputs": []
    },
    {
      "cell_type": "code",
      "source": [
        "from google.colab import drive\n",
        "drive.mount('/content/drive')"
      ],
      "metadata": {
        "colab": {
          "base_uri": "https://localhost:8080/"
        },
        "id": "NQ8_mwgt4pUr",
        "outputId": "19144d99-2298-4dd4-9344-ba40dae2dd41"
      },
      "execution_count": 1,
      "outputs": [
        {
          "output_type": "stream",
          "name": "stdout",
          "text": [
            "Mounted at /content/drive\n"
          ]
        }
      ]
    },
    {
      "cell_type": "code",
      "source": [
        "file_path = \"/content/drive/My Drive/S544/AmesHousing.csv\"\n",
        "ames = pd.read_csv(file_path)"
      ],
      "metadata": {
        "id": "U6M4WUIQ4pzR"
      },
      "execution_count": 4,
      "outputs": []
    },
    {
      "cell_type": "code",
      "source": [
        "lr = LinearRegression()\n",
        "\n",
        "X = ames[[\"Gr Liv Area\", \"TotRms AbvGrd\"]]\n",
        "y = ames[\"SalePrice\"]\n",
        "\n",
        "\n",
        "\n",
        "X_train, X_test, y_train, y_test = train_test_split(X, y)\n",
        "\n",
        "X_train_s = (X_train - X_train.mean())/X_train.std()\n",
        "\n",
        "lr_fitted = lr.fit(X_train_s, y_train)\n",
        "lr_fitted.coef_"
      ],
      "metadata": {
        "colab": {
          "base_uri": "https://localhost:8080/"
        },
        "id": "AfXaevgh486N",
        "outputId": "278ca472-88dc-484c-80e3-2f91328064d9"
      },
      "execution_count": 7,
      "outputs": [
        {
          "output_type": "execute_result",
          "data": {
            "text/plain": [
              "array([ 71091.51557077, -17067.53559838])"
            ]
          },
          "metadata": {},
          "execution_count": 7
        }
      ]
    },
    {
      "cell_type": "code",
      "source": [
        "X = ames[[\"Gr Liv Area\", \"TotRms AbvGrd\", \"Bldg Type\"]]\n",
        "y = ames[\"SalePrice\"]\n",
        "\n",
        "X_train, X_test, y_train, y_test = train_test_split(X, y, test_size=0.2, random_state=42)\n",
        "\n",
        "pipeline_1 = Pipeline([\n",
        "    ('features', ColumnTransformer([\n",
        "        ('interaction', PolynomialFeatures(interaction_only=True, include_bias=False), ['Gr Liv Area', 'TotRms AbvGrd'])\n",
        "    ], remainder='drop')),\n",
        "    ('linear_reg', LinearRegression())\n",
        "])\n",
        "\n",
        "pipeline_2 = Pipeline([\n",
        "    ('features', ColumnTransformer([\n",
        "        ('dummify', OneHotEncoder(), ['Bldg Type']),\n",
        "        ('interaction', PolynomialFeatures(interaction_only=True, include_bias=False), ['Gr Liv Area', 'TotRms AbvGrd'])\n",
        "    ], remainder='passthrough')),\n",
        "    ('linear_reg', LinearRegression())\n",
        "])\n",
        "\n",
        "pipeline_3 = Pipeline([\n",
        "    ('features', ColumnTransformer([\n",
        "        ('dummify', OneHotEncoder(), ['Bldg Type']),\n",
        "        ('interaction', PolynomialFeatures(interaction_only=True, include_bias=False), ['Gr Liv Area'])\n",
        "    ], remainder='passthrough')),\n",
        "    ('linear_reg', LinearRegression())\n",
        "])\n",
        "\n",
        "pipeline_4 = Pipeline([\n",
        "    ('features', ColumnTransformer([\n",
        "        ('dummify', OneHotEncoder(), ['Bldg Type']),\n",
        "        ('poly_size', PolynomialFeatures(degree=5, include_bias=False), ['Gr Liv Area']),\n",
        "        ('poly_rooms', PolynomialFeatures(degree=5, include_bias=False), ['TotRms AbvGrd'])\n",
        "    ], remainder='passthrough')),\n",
        "    ('linear_reg', LinearRegression())\n",
        "])\n",
        "\n",
        "pipelines = [pipeline_1, pipeline_2, pipeline_3, pipeline_4]\n",
        "for pipe in pipelines:\n",
        "    pipe.fit(X_train, y_train)\n",
        "\n",
        "rmse_values = []\n",
        "for pipe in pipelines:\n",
        "    predictions = pipe.predict(X_test)\n",
        "    rmse = mean_squared_error(y_test, predictions, squared=False)\n",
        "    rmse_values.append(rmse)\n",
        "\n",
        "best_model_index = rmse_values.index(min(rmse_values))\n",
        "best_model_rmse = rmse_values[best_model_index]\n",
        "\n",
        "best_model_index, best_model_rmse"
      ],
      "metadata": {
        "colab": {
          "base_uri": "https://localhost:8080/"
        },
        "id": "kAv7Fb1v6imt",
        "outputId": "051e4723-8086-43c7-8fcf-052089c7aa6a"
      },
      "execution_count": 10,
      "outputs": [
        {
          "output_type": "execute_result",
          "data": {
            "text/plain": [
              "(2, 59589.20317423393)"
            ]
          },
          "metadata": {},
          "execution_count": 10
        }
      ]
    },
    {
      "cell_type": "code",
      "source": [
        "pipeline = Pipeline([\n",
        "    ('features', ColumnTransformer([\n",
        "        ('poly_size', PolynomialFeatures(include_bias=False), ['Gr Liv Area']),\n",
        "        ('poly_rooms', PolynomialFeatures(include_bias=False), ['TotRms AbvGrd']),\n",
        "        ('dummify', OneHotEncoder(), ['Bldg Type'])\n",
        "    ], remainder='passthrough')),\n",
        "    ('linear_reg', LinearRegression())\n",
        "])\n",
        "\n",
        "paramiter = {\n",
        "    'features__poly_size__degree': range(1, 11),\n",
        "    'features__poly_rooms__degree': range(1, 11)\n",
        "}\n",
        "\n",
        "search = GridSearchCV(pipeline, paramiter, cv=5, scoring='neg_mean_squared_error', verbose=1)\n",
        "\n",
        "search.fit(X_train, y_train)"
      ],
      "metadata": {
        "colab": {
          "base_uri": "https://localhost:8080/",
          "height": 236
        },
        "id": "dOhEJdqz24M9",
        "outputId": "20bd449e-1ada-405b-e7ac-bf1c1a4d1624"
      },
      "execution_count": 13,
      "outputs": [
        {
          "output_type": "stream",
          "name": "stdout",
          "text": [
            "Fitting 5 folds for each of 100 candidates, totalling 500 fits\n"
          ]
        },
        {
          "output_type": "execute_result",
          "data": {
            "text/plain": [
              "GridSearchCV(cv=5,\n",
              "             estimator=Pipeline(steps=[('features',\n",
              "                                        ColumnTransformer(remainder='passthrough',\n",
              "                                                          transformers=[('poly_size',\n",
              "                                                                         PolynomialFeatures(include_bias=False),\n",
              "                                                                         ['Gr '\n",
              "                                                                          'Liv '\n",
              "                                                                          'Area']),\n",
              "                                                                        ('poly_rooms',\n",
              "                                                                         PolynomialFeatures(include_bias=False),\n",
              "                                                                         ['TotRms '\n",
              "                                                                          'AbvGrd']),\n",
              "                                                                        ('dummify',\n",
              "                                                                         OneHotEncoder(),\n",
              "                                                                         ['Bldg '\n",
              "                                                                          'Type'])])),\n",
              "                                       ('linear_reg', LinearRegression())]),\n",
              "             param_grid={'features__poly_rooms__degree': range(1, 11),\n",
              "                         'features__poly_size__degree': range(1, 11)},\n",
              "             scoring='neg_mean_squared_error', verbose=1)"
            ],
            "text/html": [
              "<style>#sk-container-id-1 {color: black;background-color: white;}#sk-container-id-1 pre{padding: 0;}#sk-container-id-1 div.sk-toggleable {background-color: white;}#sk-container-id-1 label.sk-toggleable__label {cursor: pointer;display: block;width: 100%;margin-bottom: 0;padding: 0.3em;box-sizing: border-box;text-align: center;}#sk-container-id-1 label.sk-toggleable__label-arrow:before {content: \"▸\";float: left;margin-right: 0.25em;color: #696969;}#sk-container-id-1 label.sk-toggleable__label-arrow:hover:before {color: black;}#sk-container-id-1 div.sk-estimator:hover label.sk-toggleable__label-arrow:before {color: black;}#sk-container-id-1 div.sk-toggleable__content {max-height: 0;max-width: 0;overflow: hidden;text-align: left;background-color: #f0f8ff;}#sk-container-id-1 div.sk-toggleable__content pre {margin: 0.2em;color: black;border-radius: 0.25em;background-color: #f0f8ff;}#sk-container-id-1 input.sk-toggleable__control:checked~div.sk-toggleable__content {max-height: 200px;max-width: 100%;overflow: auto;}#sk-container-id-1 input.sk-toggleable__control:checked~label.sk-toggleable__label-arrow:before {content: \"▾\";}#sk-container-id-1 div.sk-estimator input.sk-toggleable__control:checked~label.sk-toggleable__label {background-color: #d4ebff;}#sk-container-id-1 div.sk-label input.sk-toggleable__control:checked~label.sk-toggleable__label {background-color: #d4ebff;}#sk-container-id-1 input.sk-hidden--visually {border: 0;clip: rect(1px 1px 1px 1px);clip: rect(1px, 1px, 1px, 1px);height: 1px;margin: -1px;overflow: hidden;padding: 0;position: absolute;width: 1px;}#sk-container-id-1 div.sk-estimator {font-family: monospace;background-color: #f0f8ff;border: 1px dotted black;border-radius: 0.25em;box-sizing: border-box;margin-bottom: 0.5em;}#sk-container-id-1 div.sk-estimator:hover {background-color: #d4ebff;}#sk-container-id-1 div.sk-parallel-item::after {content: \"\";width: 100%;border-bottom: 1px solid gray;flex-grow: 1;}#sk-container-id-1 div.sk-label:hover label.sk-toggleable__label {background-color: #d4ebff;}#sk-container-id-1 div.sk-serial::before {content: \"\";position: absolute;border-left: 1px solid gray;box-sizing: border-box;top: 0;bottom: 0;left: 50%;z-index: 0;}#sk-container-id-1 div.sk-serial {display: flex;flex-direction: column;align-items: center;background-color: white;padding-right: 0.2em;padding-left: 0.2em;position: relative;}#sk-container-id-1 div.sk-item {position: relative;z-index: 1;}#sk-container-id-1 div.sk-parallel {display: flex;align-items: stretch;justify-content: center;background-color: white;position: relative;}#sk-container-id-1 div.sk-item::before, #sk-container-id-1 div.sk-parallel-item::before {content: \"\";position: absolute;border-left: 1px solid gray;box-sizing: border-box;top: 0;bottom: 0;left: 50%;z-index: -1;}#sk-container-id-1 div.sk-parallel-item {display: flex;flex-direction: column;z-index: 1;position: relative;background-color: white;}#sk-container-id-1 div.sk-parallel-item:first-child::after {align-self: flex-end;width: 50%;}#sk-container-id-1 div.sk-parallel-item:last-child::after {align-self: flex-start;width: 50%;}#sk-container-id-1 div.sk-parallel-item:only-child::after {width: 0;}#sk-container-id-1 div.sk-dashed-wrapped {border: 1px dashed gray;margin: 0 0.4em 0.5em 0.4em;box-sizing: border-box;padding-bottom: 0.4em;background-color: white;}#sk-container-id-1 div.sk-label label {font-family: monospace;font-weight: bold;display: inline-block;line-height: 1.2em;}#sk-container-id-1 div.sk-label-container {text-align: center;}#sk-container-id-1 div.sk-container {/* jupyter's `normalize.less` sets `[hidden] { display: none; }` but bootstrap.min.css set `[hidden] { display: none !important; }` so we also need the `!important` here to be able to override the default hidden behavior on the sphinx rendered scikit-learn.org. See: https://github.com/scikit-learn/scikit-learn/issues/21755 */display: inline-block !important;position: relative;}#sk-container-id-1 div.sk-text-repr-fallback {display: none;}</style><div id=\"sk-container-id-1\" class=\"sk-top-container\"><div class=\"sk-text-repr-fallback\"><pre>GridSearchCV(cv=5,\n",
              "             estimator=Pipeline(steps=[(&#x27;features&#x27;,\n",
              "                                        ColumnTransformer(remainder=&#x27;passthrough&#x27;,\n",
              "                                                          transformers=[(&#x27;poly_size&#x27;,\n",
              "                                                                         PolynomialFeatures(include_bias=False),\n",
              "                                                                         [&#x27;Gr &#x27;\n",
              "                                                                          &#x27;Liv &#x27;\n",
              "                                                                          &#x27;Area&#x27;]),\n",
              "                                                                        (&#x27;poly_rooms&#x27;,\n",
              "                                                                         PolynomialFeatures(include_bias=False),\n",
              "                                                                         [&#x27;TotRms &#x27;\n",
              "                                                                          &#x27;AbvGrd&#x27;]),\n",
              "                                                                        (&#x27;dummify&#x27;,\n",
              "                                                                         OneHotEncoder(),\n",
              "                                                                         [&#x27;Bldg &#x27;\n",
              "                                                                          &#x27;Type&#x27;])])),\n",
              "                                       (&#x27;linear_reg&#x27;, LinearRegression())]),\n",
              "             param_grid={&#x27;features__poly_rooms__degree&#x27;: range(1, 11),\n",
              "                         &#x27;features__poly_size__degree&#x27;: range(1, 11)},\n",
              "             scoring=&#x27;neg_mean_squared_error&#x27;, verbose=1)</pre><b>In a Jupyter environment, please rerun this cell to show the HTML representation or trust the notebook. <br />On GitHub, the HTML representation is unable to render, please try loading this page with nbviewer.org.</b></div><div class=\"sk-container\" hidden><div class=\"sk-item sk-dashed-wrapped\"><div class=\"sk-label-container\"><div class=\"sk-label sk-toggleable\"><input class=\"sk-toggleable__control sk-hidden--visually\" id=\"sk-estimator-id-1\" type=\"checkbox\" ><label for=\"sk-estimator-id-1\" class=\"sk-toggleable__label sk-toggleable__label-arrow\">GridSearchCV</label><div class=\"sk-toggleable__content\"><pre>GridSearchCV(cv=5,\n",
              "             estimator=Pipeline(steps=[(&#x27;features&#x27;,\n",
              "                                        ColumnTransformer(remainder=&#x27;passthrough&#x27;,\n",
              "                                                          transformers=[(&#x27;poly_size&#x27;,\n",
              "                                                                         PolynomialFeatures(include_bias=False),\n",
              "                                                                         [&#x27;Gr &#x27;\n",
              "                                                                          &#x27;Liv &#x27;\n",
              "                                                                          &#x27;Area&#x27;]),\n",
              "                                                                        (&#x27;poly_rooms&#x27;,\n",
              "                                                                         PolynomialFeatures(include_bias=False),\n",
              "                                                                         [&#x27;TotRms &#x27;\n",
              "                                                                          &#x27;AbvGrd&#x27;]),\n",
              "                                                                        (&#x27;dummify&#x27;,\n",
              "                                                                         OneHotEncoder(),\n",
              "                                                                         [&#x27;Bldg &#x27;\n",
              "                                                                          &#x27;Type&#x27;])])),\n",
              "                                       (&#x27;linear_reg&#x27;, LinearRegression())]),\n",
              "             param_grid={&#x27;features__poly_rooms__degree&#x27;: range(1, 11),\n",
              "                         &#x27;features__poly_size__degree&#x27;: range(1, 11)},\n",
              "             scoring=&#x27;neg_mean_squared_error&#x27;, verbose=1)</pre></div></div></div><div class=\"sk-parallel\"><div class=\"sk-parallel-item\"><div class=\"sk-item\"><div class=\"sk-label-container\"><div class=\"sk-label sk-toggleable\"><input class=\"sk-toggleable__control sk-hidden--visually\" id=\"sk-estimator-id-2\" type=\"checkbox\" ><label for=\"sk-estimator-id-2\" class=\"sk-toggleable__label sk-toggleable__label-arrow\">estimator: Pipeline</label><div class=\"sk-toggleable__content\"><pre>Pipeline(steps=[(&#x27;features&#x27;,\n",
              "                 ColumnTransformer(remainder=&#x27;passthrough&#x27;,\n",
              "                                   transformers=[(&#x27;poly_size&#x27;,\n",
              "                                                  PolynomialFeatures(include_bias=False),\n",
              "                                                  [&#x27;Gr Liv Area&#x27;]),\n",
              "                                                 (&#x27;poly_rooms&#x27;,\n",
              "                                                  PolynomialFeatures(include_bias=False),\n",
              "                                                  [&#x27;TotRms AbvGrd&#x27;]),\n",
              "                                                 (&#x27;dummify&#x27;, OneHotEncoder(),\n",
              "                                                  [&#x27;Bldg Type&#x27;])])),\n",
              "                (&#x27;linear_reg&#x27;, LinearRegression())])</pre></div></div></div><div class=\"sk-serial\"><div class=\"sk-item\"><div class=\"sk-serial\"><div class=\"sk-item sk-dashed-wrapped\"><div class=\"sk-label-container\"><div class=\"sk-label sk-toggleable\"><input class=\"sk-toggleable__control sk-hidden--visually\" id=\"sk-estimator-id-3\" type=\"checkbox\" ><label for=\"sk-estimator-id-3\" class=\"sk-toggleable__label sk-toggleable__label-arrow\">features: ColumnTransformer</label><div class=\"sk-toggleable__content\"><pre>ColumnTransformer(remainder=&#x27;passthrough&#x27;,\n",
              "                  transformers=[(&#x27;poly_size&#x27;,\n",
              "                                 PolynomialFeatures(include_bias=False),\n",
              "                                 [&#x27;Gr Liv Area&#x27;]),\n",
              "                                (&#x27;poly_rooms&#x27;,\n",
              "                                 PolynomialFeatures(include_bias=False),\n",
              "                                 [&#x27;TotRms AbvGrd&#x27;]),\n",
              "                                (&#x27;dummify&#x27;, OneHotEncoder(), [&#x27;Bldg Type&#x27;])])</pre></div></div></div><div class=\"sk-parallel\"><div class=\"sk-parallel-item\"><div class=\"sk-item\"><div class=\"sk-label-container\"><div class=\"sk-label sk-toggleable\"><input class=\"sk-toggleable__control sk-hidden--visually\" id=\"sk-estimator-id-4\" type=\"checkbox\" ><label for=\"sk-estimator-id-4\" class=\"sk-toggleable__label sk-toggleable__label-arrow\">poly_size</label><div class=\"sk-toggleable__content\"><pre>[&#x27;Gr Liv Area&#x27;]</pre></div></div></div><div class=\"sk-serial\"><div class=\"sk-item\"><div class=\"sk-estimator sk-toggleable\"><input class=\"sk-toggleable__control sk-hidden--visually\" id=\"sk-estimator-id-5\" type=\"checkbox\" ><label for=\"sk-estimator-id-5\" class=\"sk-toggleable__label sk-toggleable__label-arrow\">PolynomialFeatures</label><div class=\"sk-toggleable__content\"><pre>PolynomialFeatures(include_bias=False)</pre></div></div></div></div></div></div><div class=\"sk-parallel-item\"><div class=\"sk-item\"><div class=\"sk-label-container\"><div class=\"sk-label sk-toggleable\"><input class=\"sk-toggleable__control sk-hidden--visually\" id=\"sk-estimator-id-6\" type=\"checkbox\" ><label for=\"sk-estimator-id-6\" class=\"sk-toggleable__label sk-toggleable__label-arrow\">poly_rooms</label><div class=\"sk-toggleable__content\"><pre>[&#x27;TotRms AbvGrd&#x27;]</pre></div></div></div><div class=\"sk-serial\"><div class=\"sk-item\"><div class=\"sk-estimator sk-toggleable\"><input class=\"sk-toggleable__control sk-hidden--visually\" id=\"sk-estimator-id-7\" type=\"checkbox\" ><label for=\"sk-estimator-id-7\" class=\"sk-toggleable__label sk-toggleable__label-arrow\">PolynomialFeatures</label><div class=\"sk-toggleable__content\"><pre>PolynomialFeatures(include_bias=False)</pre></div></div></div></div></div></div><div class=\"sk-parallel-item\"><div class=\"sk-item\"><div class=\"sk-label-container\"><div class=\"sk-label sk-toggleable\"><input class=\"sk-toggleable__control sk-hidden--visually\" id=\"sk-estimator-id-8\" type=\"checkbox\" ><label for=\"sk-estimator-id-8\" class=\"sk-toggleable__label sk-toggleable__label-arrow\">dummify</label><div class=\"sk-toggleable__content\"><pre>[&#x27;Bldg Type&#x27;]</pre></div></div></div><div class=\"sk-serial\"><div class=\"sk-item\"><div class=\"sk-estimator sk-toggleable\"><input class=\"sk-toggleable__control sk-hidden--visually\" id=\"sk-estimator-id-9\" type=\"checkbox\" ><label for=\"sk-estimator-id-9\" class=\"sk-toggleable__label sk-toggleable__label-arrow\">OneHotEncoder</label><div class=\"sk-toggleable__content\"><pre>OneHotEncoder()</pre></div></div></div></div></div></div><div class=\"sk-parallel-item\"><div class=\"sk-item\"><div class=\"sk-label-container\"><div class=\"sk-label sk-toggleable\"><input class=\"sk-toggleable__control sk-hidden--visually\" id=\"sk-estimator-id-10\" type=\"checkbox\" ><label for=\"sk-estimator-id-10\" class=\"sk-toggleable__label sk-toggleable__label-arrow\">remainder</label><div class=\"sk-toggleable__content\"><pre></pre></div></div></div><div class=\"sk-serial\"><div class=\"sk-item\"><div class=\"sk-estimator sk-toggleable\"><input class=\"sk-toggleable__control sk-hidden--visually\" id=\"sk-estimator-id-11\" type=\"checkbox\" ><label for=\"sk-estimator-id-11\" class=\"sk-toggleable__label sk-toggleable__label-arrow\">passthrough</label><div class=\"sk-toggleable__content\"><pre>passthrough</pre></div></div></div></div></div></div></div></div><div class=\"sk-item\"><div class=\"sk-estimator sk-toggleable\"><input class=\"sk-toggleable__control sk-hidden--visually\" id=\"sk-estimator-id-12\" type=\"checkbox\" ><label for=\"sk-estimator-id-12\" class=\"sk-toggleable__label sk-toggleable__label-arrow\">LinearRegression</label><div class=\"sk-toggleable__content\"><pre>LinearRegression()</pre></div></div></div></div></div></div></div></div></div></div></div></div>"
            ]
          },
          "metadata": {},
          "execution_count": 13
        }
      ]
    },
    {
      "cell_type": "code",
      "source": [],
      "metadata": {
        "id": "0r16yg8x7C90"
      },
      "execution_count": null,
      "outputs": []
    }
  ]
}