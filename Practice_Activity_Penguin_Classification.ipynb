{
  "nbformat": 4,
  "nbformat_minor": 0,
  "metadata": {
    "colab": {
      "provenance": [],
      "include_colab_link": true
    },
    "kernelspec": {
      "name": "python3",
      "display_name": "Python 3"
    },
    "language_info": {
      "name": "python"
    }
  },
  "cells": [
    {
      "cell_type": "markdown",
      "metadata": {
        "id": "view-in-github",
        "colab_type": "text"
      },
      "source": [
        "<a href=\"https://colab.research.google.com/github/seanigens/IntroDataViz/blob/main/Practice_Activity_Penguin_Classification.ipynb\" target=\"_parent\"><img src=\"https://colab.research.google.com/assets/colab-badge.svg\" alt=\"Open In Colab\"/></a>"
      ]
    },
    {
      "cell_type": "markdown",
      "source": [
        "# Palmer Penguins Modeling\n",
        "\n",
        "Import the Palmer Penguins dataset and print out the first few rows.\n",
        "\n",
        "Suppose we want to predict `species` using the other variables in the dataset.\n",
        "\n",
        "**Dummify** all variables that require this."
      ],
      "metadata": {
        "id": "TxbDFsJARAMD"
      }
    },
    {
      "cell_type": "code",
      "execution_count": 3,
      "metadata": {
        "id": "QV2uolyOQ65C",
        "colab": {
          "base_uri": "https://localhost:8080/"
        },
        "outputId": "8b3e7757-f6bb-4149-fb45-9be467f27ad9"
      },
      "outputs": [
        {
          "output_type": "stream",
          "name": "stdout",
          "text": [
            "Collecting palmerpenguins\n",
            "  Downloading palmerpenguins-0.1.4-py3-none-any.whl (17 kB)\n",
            "Requirement already satisfied: pandas in /usr/local/lib/python3.10/dist-packages (from palmerpenguins) (1.5.3)\n",
            "Requirement already satisfied: numpy in /usr/local/lib/python3.10/dist-packages (from palmerpenguins) (1.23.5)\n",
            "Requirement already satisfied: python-dateutil>=2.8.1 in /usr/local/lib/python3.10/dist-packages (from pandas->palmerpenguins) (2.8.2)\n",
            "Requirement already satisfied: pytz>=2020.1 in /usr/local/lib/python3.10/dist-packages (from pandas->palmerpenguins) (2023.3.post1)\n",
            "Requirement already satisfied: six>=1.5 in /usr/local/lib/python3.10/dist-packages (from python-dateutil>=2.8.1->pandas->palmerpenguins) (1.16.0)\n",
            "Installing collected packages: palmerpenguins\n",
            "Successfully installed palmerpenguins-0.1.4\n"
          ]
        }
      ],
      "source": [
        "pip install palmerpenguins"
      ]
    },
    {
      "cell_type": "code",
      "source": [
        "import pandas as pd\n",
        "from palmerpenguins import load_penguins\n",
        "import seaborn as sns\n",
        "from sklearn.model_selection import train_test_split\n",
        "from sklearn.neighbors import KNeighborsClassifier\n",
        "from sklearn.tree import DecisionTreeClassifier\n",
        "from sklearn.metrics import confusion_matrix, accuracy_score, precision_recall_fscore_support, roc_curve, auc\n",
        "import matplotlib.pyplot as plt"
      ],
      "metadata": {
        "id": "PeSQSAPOO6hO"
      },
      "execution_count": 9,
      "outputs": []
    },
    {
      "cell_type": "code",
      "source": [
        "penguin = load_penguins()"
      ],
      "metadata": {
        "id": "h_ksUsNEPKzZ"
      },
      "execution_count": 6,
      "outputs": []
    },
    {
      "cell_type": "code",
      "source": [
        "print(penguin.head())"
      ],
      "metadata": {
        "colab": {
          "base_uri": "https://localhost:8080/"
        },
        "id": "dhn7NKk1PTRt",
        "outputId": "f0b3ff19-a69a-4550-d646-ef64adf8dbe4"
      },
      "execution_count": 8,
      "outputs": [
        {
          "output_type": "stream",
          "name": "stdout",
          "text": [
            "  species     island  bill_length_mm  bill_depth_mm  flipper_length_mm  \\\n",
            "0  Adelie  Torgersen            39.1           18.7              181.0   \n",
            "1  Adelie  Torgersen            39.5           17.4              186.0   \n",
            "2  Adelie  Torgersen            40.3           18.0              195.0   \n",
            "3  Adelie  Torgersen             NaN            NaN                NaN   \n",
            "4  Adelie  Torgersen            36.7           19.3              193.0   \n",
            "\n",
            "   body_mass_g     sex  year  \n",
            "0       3750.0    male  2007  \n",
            "1       3800.0  female  2007  \n",
            "2       3250.0  female  2007  \n",
            "3          NaN     NaN  2007  \n",
            "4       3450.0  female  2007  \n"
          ]
        }
      ]
    },
    {
      "cell_type": "code",
      "source": [
        "features = ['species', 'island', 'bill_length_mm', 'flipper_length_mm', 'body_mass_g', 'sex']\n",
        "target = 'species'\n",
        "\n",
        "penguins = penguin.dropna(subset=features + [target])\n",
        "\n",
        "penguins_dummies = pd.get_dummies(penguins[features])"
      ],
      "metadata": {
        "id": "pCu8wjnOPDGr"
      },
      "execution_count": 7,
      "outputs": []
    },
    {
      "cell_type": "markdown",
      "source": [
        "Let's use the other variables to predict `species`. Prepare your data and fit the following models on the entire dataset:\n",
        "\n",
        "* Two kNN models (for different values of K)\n",
        "* Two decision tree models (for different complexities of trees)\n",
        "\n",
        "Compute the following, for each of your models, on test data. Keep in mind that you may need to stratify your creation of the training and test data.\n",
        "\n",
        "* Confusion matrix\n",
        "* Overall Accuracy\n",
        "* Precision, Recall, AUC, and F1-score for each species\n",
        "\n",
        "Create one ROC plot for the species of your choice."
      ],
      "metadata": {
        "id": "HecNBVAnRHod"
      }
    },
    {
      "cell_type": "code",
      "source": [
        "penguins = penguins.dropna()\n",
        "\n",
        "penguins_dummies = pd.get_dummies(penguins, columns=['island', 'sex'], drop_first=True)\n",
        "\n",
        "X = penguins_dummies.drop('species', axis=1)\n",
        "y = penguins_dummies['species']\n",
        "\n",
        "X_train, X_test, y_train, y_test = train_test_split(X, y, test_size=0.2, stratify=y, random_state=42)\n",
        "\n",
        "knn_3 = KNeighborsClassifier(n_neighbors=3)\n",
        "knn_3.fit(X_train, y_train)\n",
        "\n",
        "knn_7 = KNeighborsClassifier(n_neighbors=7)\n",
        "knn_7.fit(X_train, y_train)\n",
        "\n",
        "dt_2 = DecisionTreeClassifier(max_depth=2, random_state=42)\n",
        "dt_2.fit(X_train, y_train)\n",
        "\n",
        "dt_5 = DecisionTreeClassifier(max_depth=5, random_state=42)\n",
        "dt_5.fit(X_train, y_train)\n",
        "\n",
        "models = [knn_3, knn_7, dt_2, dt_5]\n",
        "for model in models:\n",
        "    y_pred = model.predict(X_test)\n",
        "    print(f\"Model: {model}\")\n",
        "    print(\"Confusion Matrix:\")\n",
        "    print(confusion_matrix(y_test, y_pred))\n",
        "    print(\"Accuracy:\", accuracy_score(y_test, y_pred))\n",
        "    print(\"Precision, Recall, F1-score per Class:\")\n",
        "    print(precision_recall_fscore_support(y_test, y_pred, average=None))\n",
        "    print()\n",
        "\n",
        "species = 'Adelie'\n",
        "y_test_bin = (y_test == species).astype(int)\n",
        "fpr, tpr, thresholds = roc_curve(y_test_bin, knn_3.predict_proba(X_test)[:, 0])\n",
        "roc_auc = auc(fpr, tpr)\n",
        "\n",
        "plt.figure()\n",
        "plt.plot(fpr, tpr, color='darkorange', lw=2, label=f'ROC curve (area = {roc_auc:.2f})')\n",
        "plt.plot([0, 1], [0, 1], color='navy', lw=2, linestyle='--')\n",
        "plt.xlim([0.0, 1.0])\n",
        "plt.ylim([0.0, 1.05])\n",
        "plt.xlabel('FPR')\n",
        "plt.ylabel('TPR')\n",
        "plt.title('ROC')\n",
        "plt.legend(loc=\"lower right\")\n",
        "plt.show()"
      ],
      "metadata": {
        "id": "U1onRGJQR8T_",
        "colab": {
          "base_uri": "https://localhost:8080/",
          "height": 1000
        },
        "outputId": "2e626194-2f35-42b1-ddd7-4089fb4221c8"
      },
      "execution_count": 13,
      "outputs": [
        {
          "output_type": "stream",
          "name": "stdout",
          "text": [
            "Model: KNeighborsClassifier(n_neighbors=3)\n",
            "Confusion Matrix:\n",
            "[[23  1  5]\n",
            " [ 6  7  1]\n",
            " [ 3  0 21]]\n",
            "Accuracy: 0.7611940298507462\n",
            "Precision, Recall, F1-score per Class:\n",
            "(array([0.71875   , 0.875     , 0.77777778]), array([0.79310345, 0.5       , 0.875     ]), array([0.75409836, 0.63636364, 0.82352941]), array([29, 14, 24]))\n",
            "\n",
            "Model: KNeighborsClassifier(n_neighbors=7)\n",
            "Confusion Matrix:\n",
            "[[25  2  2]\n",
            " [ 9  4  1]\n",
            " [ 2  0 22]]\n",
            "Accuracy: 0.7611940298507462\n",
            "Precision, Recall, F1-score per Class:\n",
            "(array([0.69444444, 0.66666667, 0.88      ]), array([0.86206897, 0.28571429, 0.91666667]), array([0.76923077, 0.4       , 0.89795918]), array([29, 14, 24]))\n",
            "\n",
            "Model: DecisionTreeClassifier(max_depth=2, random_state=42)\n",
            "Confusion Matrix:\n",
            "[[28  1  0]\n",
            " [ 1 13  0]\n",
            " [ 0  2 22]]\n",
            "Accuracy: 0.9402985074626866\n",
            "Precision, Recall, F1-score per Class:\n",
            "(array([0.96551724, 0.8125    , 1.        ]), array([0.96551724, 0.92857143, 0.91666667]), array([0.96551724, 0.86666667, 0.95652174]), array([29, 14, 24]))\n",
            "\n",
            "Model: DecisionTreeClassifier(max_depth=5, random_state=42)\n",
            "Confusion Matrix:\n",
            "[[26  3  0]\n",
            " [ 0 14  0]\n",
            " [ 2  0 22]]\n",
            "Accuracy: 0.9253731343283582\n",
            "Precision, Recall, F1-score per Class:\n",
            "(array([0.92857143, 0.82352941, 1.        ]), array([0.89655172, 1.        , 0.91666667]), array([0.9122807 , 0.90322581, 0.95652174]), array([29, 14, 24]))\n",
            "\n"
          ]
        },
        {
          "output_type": "display_data",
          "data": {
            "text/plain": [
              "<Figure size 640x480 with 1 Axes>"
            ],
            "image/png": "[encoded data removed]"
          },
          "metadata": {}
        }
      ]
    },
    {
      "cell_type": "code",
      "source": [],
      "metadata": {
        "id": "TegGmd6wQSzR"
      },
      "execution_count": null,
      "outputs": []
    }
  ]
}